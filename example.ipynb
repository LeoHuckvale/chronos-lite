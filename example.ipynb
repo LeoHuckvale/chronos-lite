{
 "cells": [
  {
   "metadata": {},
   "cell_type": "markdown",
   "source": "# Example Usage of Battery Optimisation Model",
   "id": "b9fa6b4d578aff53"
  },
  {
   "metadata": {},
   "cell_type": "markdown",
   "source": "## Setup",
   "id": "606992658421ce27"
  },
  {
   "metadata": {},
   "cell_type": "code",
   "source": [
    "from pathlib import Path\n",
    "\n",
    "from chronos.lite.data import load_battery_config, load_market_data\n",
    "from chronos.lite.model import Model\n",
    "\n",
    "DATA_DIR = Path.cwd() / \"data\""
   ],
   "id": "a1af94b789892eae",
   "outputs": [],
   "execution_count": null
  },
  {
   "metadata": {},
   "cell_type": "markdown",
   "source": "## Load in data",
   "id": "d56d7c3f752c0e3d"
  },
  {
   "metadata": {},
   "cell_type": "code",
   "source": [
    "battery_config = load_battery_config(DATA_DIR / \"raw\" / \"battery_parameters.csv\")\n",
    "battery_config"
   ],
   "id": "3dca6c88227a3fac",
   "outputs": [],
   "execution_count": null
  },
  {
   "metadata": {},
   "cell_type": "code",
   "source": [
    "market_data = load_market_data(\n",
    "    half_hourly_csv=DATA_DIR / \"raw\" / \"half-hourly-market.csv\",\n",
    "    hourly_csv=DATA_DIR / \"raw\" / \"hourly-market.csv\",\n",
    "    nrows=50,  # Limit datasize due to memory issues\n",
    ")\n",
    "market_data.head()"
   ],
   "id": "7d422153ad1f05d5",
   "outputs": [],
   "execution_count": null
  },
  {
   "metadata": {},
   "cell_type": "markdown",
   "source": [
    "## Instantiate the model\n",
    "\n",
    "The battery optimisation model subclasses `linopy.Model`, adding variables and constraints on instantiation."
   ],
   "id": "d67fc5eeca80461f"
  },
  {
   "metadata": {},
   "cell_type": "code",
   "source": "model = Model(battery_config, market_data)",
   "id": "66de3c5e0d2717eb",
   "outputs": [],
   "execution_count": null
  },
  {
   "metadata": {},
   "cell_type": "markdown",
   "source": "View the model variables:",
   "id": "4b9f3222db0fefcd"
  },
  {
   "metadata": {},
   "cell_type": "code",
   "source": "model.variables",
   "id": "17bec147729c3b2a",
   "outputs": [],
   "execution_count": null
  },
  {
   "metadata": {},
   "cell_type": "markdown",
   "source": "Inspect a given model variable:",
   "id": "c51a9a905589beab"
  },
  {
   "metadata": {},
   "cell_type": "code",
   "source": "model.variables[\"charge rate 60\"]",
   "id": "aef429aaf72ac571",
   "outputs": [],
   "execution_count": null
  },
  {
   "metadata": {},
   "cell_type": "markdown",
   "source": "View the model constraints:",
   "id": "aceae3251737722c"
  },
  {
   "metadata": {},
   "cell_type": "code",
   "source": "model.constraints",
   "id": "1f6e2bf334b29301",
   "outputs": [],
   "execution_count": null
  },
  {
   "metadata": {},
   "cell_type": "markdown",
   "source": "Inspect a given model constraint:",
   "id": "f0ac83463e615af6"
  },
  {
   "metadata": {},
   "cell_type": "code",
   "source": "model.constraints[\"max discharge rate\"]",
   "id": "5a0366ac4d39cbb7",
   "outputs": [],
   "execution_count": null
  },
  {
   "metadata": {},
   "cell_type": "markdown",
   "source": "NB: for implementing the constraints, the model also calculates stored energy as a linear expression:",
   "id": "cdbfbbf53ada79fe"
  },
  {
   "metadata": {},
   "cell_type": "code",
   "source": "model.stored_energy",
   "id": "f4021ab362f9ea49",
   "outputs": [],
   "execution_count": null
  },
  {
   "metadata": {},
   "cell_type": "markdown",
   "source": [
    "## Solve the model\n",
    "\n",
    "We'll use the HiGHS solver, which is easy to install via the `highspy` package."
   ],
   "id": "9beb897e6bd5fa69"
  },
  {
   "metadata": {},
   "cell_type": "code",
   "source": "model.solve(solver_name=\"highs\")",
   "id": "3f0a6481fe4c87b9",
   "outputs": [],
   "execution_count": null
  },
  {
   "metadata": {},
   "cell_type": "markdown",
   "source": "Show the model solution:",
   "id": "6ded2b5b456f65c4"
  },
  {
   "metadata": {},
   "cell_type": "code",
   "source": "model.solution",
   "id": "98ac79e4be8bdf82",
   "outputs": [],
   "execution_count": null
  },
  {
   "metadata": {},
   "cell_type": "markdown",
   "source": "Plot the battery optimisation model solution using the built-in visualisation:",
   "id": "c7fd2624005f2f1b"
  },
  {
   "metadata": {},
   "cell_type": "code",
   "source": "model.plot_solution()",
   "id": "220cb40c5acada37",
   "outputs": [],
   "execution_count": null
  },
  {
   "metadata": {},
   "cell_type": "markdown",
   "source": "Inspect solution values like:",
   "id": "9e9041c41e633278"
  },
  {
   "metadata": {},
   "cell_type": "code",
   "source": "model.variables[\"charge rate 30\"].solution[:25]",
   "id": "4d75ea098d039ce9",
   "outputs": [],
   "execution_count": null
  },
  {
   "metadata": {},
   "cell_type": "code",
   "source": "model.stored_energy.solution[:25]",
   "id": "51e291be8d746bee",
   "outputs": [],
   "execution_count": null
  },
  {
   "metadata": {},
   "cell_type": "markdown",
   "source": "b## Output model results",
   "id": "caf4d47270ad6eea"
  },
  {
   "metadata": {},
   "cell_type": "markdown",
   "source": "Output to dataframe:",
   "id": "aedebb686f5a9b3a"
  },
  {
   "metadata": {},
   "cell_type": "code",
   "source": [
    "df = model.solution_to_dataframe()\n",
    "df.head(20)"
   ],
   "id": "1d670b3dc0402dd9",
   "outputs": [],
   "execution_count": null
  },
  {
   "metadata": {},
   "cell_type": "markdown",
   "source": "Output to file:",
   "id": "13d2d46e91db2869"
  },
  {
   "metadata": {},
   "cell_type": "code",
   "source": "model.solution_to_excel(DATA_DIR / \"processed\" / \"solution.xlsx\")",
   "id": "7d471578530e3319",
   "outputs": [],
   "execution_count": null
  }
 ],
 "metadata": {
  "kernelspec": {
   "name": "python3",
   "language": "python",
   "display_name": "Python 3 (ipykernel)"
  }
 },
 "nbformat": 4,
 "nbformat_minor": 5
}
