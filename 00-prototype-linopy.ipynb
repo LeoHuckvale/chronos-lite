{
 "cells": [
  {
   "cell_type": "code",
   "execution_count": null,
   "id": "0c691e23-3721-4428-a227-512fcdf2654e",
   "metadata": {},
   "outputs": [],
   "source": [
    "from pathlib import Path\n",
    "\n",
    "from linopy import Model\n",
    "import pandas as pd"
   ]
  },
  {
   "cell_type": "markdown",
   "id": "5b762c48-e002-45dc-92a2-5ffbfda2f79b",
   "metadata": {},
   "source": [
    "# Load data"
   ]
  },
  {
   "cell_type": "code",
   "execution_count": null,
   "id": "bedb4de2-da7a-40e4-b4d9-714184b95f88",
   "metadata": {},
   "outputs": [],
   "source": [
    "MAX_TIMESTEPS = 500\n",
    "assert MAX_TIMESTEPS % 2 == 0"
   ]
  },
  {
   "cell_type": "code",
   "execution_count": null,
   "id": "0e938b0e-ba8f-459d-8151-a8af1358808d",
   "metadata": {},
   "outputs": [],
   "source": [
    "ROOT_DIR = Path.cwd()\n",
    "DATA_DIR = ROOT_DIR / \"data\"\n",
    "\n",
    "battery_parameters = pd.read_csv(\n",
    "    DATA_DIR / \"battery_parameters.csv\",\n",
    "    index_col=0,\n",
    ")[\"Values\"].to_dict()\n",
    "half_hourly_market_series = pd.read_csv(\n",
    "    DATA_DIR / \"half-hourly-market.csv\",\n",
    "    index_col=0,\n",
    "    skiprows=1,\n",
    "    nrows=MAX_TIMESTEPS,\n",
    "    names=[\"Price (£/MWh)\"],\n",
    ").iloc[:, 0]\n",
    "half_hourly_market_series.index = pd.to_datetime(half_hourly_market_series.index, format=\"%d/%m/%Y %H:%M\")\n",
    "hourly_market_series = pd.read_csv(\n",
    "    DATA_DIR / \"hourly-market.csv\",\n",
    "    index_col=0,\n",
    "    skiprows=1,\n",
    "    nrows=MAX_TIMESTEPS/2,\n",
    "    names=[\"Price (£/MWh)\"],\n",
    ").iloc[:, 0]\n",
    "hourly_market_series.index = pd.to_datetime(hourly_market_series.index, format=\"%d/%m/%Y %H:%M\")\n",
    "\n",
    "aligned_hourly_market_series = pd.concat([\n",
    "    hourly_market_series,\n",
    "    hourly_market_series.set_axis(hourly_market_series.index + pd.to_timedelta(30, unit='m')),\n",
    "]).sort_index()"
   ]
  },
  {
   "cell_type": "markdown",
   "id": "8c154a9d-6141-4753-af26-6684f82b014e",
   "metadata": {},
   "source": [
    "# Form model - simple case, participating in one market"
   ]
  },
  {
   "cell_type": "code",
   "execution_count": null,
   "id": "7e939d2f-69e2-429b-9fbc-0ac8be619ddb",
   "metadata": {},
   "outputs": [],
   "source": [
    "m = Model(\n",
    "    force_dim_names=True  # add this in later for safety\n",
    ")"
   ]
  },
  {
   "cell_type": "markdown",
   "id": "e9d7e41d-12fb-46f0-83df-885f08b92cef",
   "metadata": {},
   "source": [
    "Index:"
   ]
  },
  {
   "cell_type": "code",
   "execution_count": null,
   "id": "5542ec6a-dce9-408b-aff2-1c9240f3c16f",
   "metadata": {},
   "outputs": [],
   "source": [
    "time = pd.Index(half_hourly_market_series.index, name=\"time\")"
   ]
  },
  {
   "cell_type": "markdown",
   "id": "cd78dcca-b706-4e46-a63b-9b9dc314459c",
   "metadata": {},
   "source": [
    "Coefficients:\n",
    "$$\n",
    "\\begin{array}{lll}\n",
    "    \\text{price at time $t$} & p_t & \\\\\n",
    "    \\text{discharge efficiency} & e^d & = 0.95 \\\\\n",
    "    \\text{charge efficiency} & e^c & = 0.95 \\\\\n",
    "\\end{array}\n",
    "$$\n",
    "\n",
    "Variables:\n",
    "$$\n",
    "\\begin{array}{lll}\n",
    "    \\text{discharging active} & s^d_t & \\in \\set{0, 1} \\\\\n",
    "    \\text{charging active} & s^c_t & \\in \\set{0, 1} \\\\\n",
    "    \\text{discharge rate at time $t$} & r^d_t \\\\\n",
    "    \\text{charge rate at time $t$} & r^c_t \\\\\n",
    "\\end{array}\n",
    "$$\n",
    "\n",
    "where:\n",
    "$$\n",
    "\\begin{array}{ll}\n",
    "    0 \\leq r^d_t \\leq r^d_{max} & \\text{(up to maximum discharge rate)} \\\\\n",
    "    0 \\leq r^c_t \\leq r^c_{max} & \\text{(up to maximum charge rate)} \\\\\n",
    "\\end{array}\n",
    "$$"
   ]
  },
  {
   "cell_type": "code",
   "execution_count": null,
   "id": "e5008a3e-dfeb-4c2e-b1fe-6770f176748b",
   "metadata": {},
   "outputs": [],
   "source": [
    "price_30min = half_hourly_market_series\n",
    "\n",
    "charge_efficiency = 1 - battery_parameters[\"Battery charging efficiency\"]\n",
    "discharge_efficiency = 1 - battery_parameters[\"Battery discharging efficiency\"]\n",
    "\n",
    "is_charging = m.add_variables(\n",
    "    binary=True,\n",
    "    coords=[time],\n",
    "    name=\"is charging\",\n",
    ")\n",
    "is_discharging = m.add_variables(\n",
    "    binary=True,\n",
    "    coords=[time],\n",
    "    name=\"is discharging\",\n",
    ")\n",
    "\n",
    "charge_rate = m.add_variables(\n",
    "    lower=0,\n",
    "    upper=battery_parameters[\"Max charging rate\"],\n",
    "    coords=[time],\n",
    "    name=\"charge rate\",\n",
    ")\n",
    "\n",
    "discharge_rate = m.add_variables(\n",
    "    lower=0,\n",
    "    upper=battery_parameters[\"Max discharging rate\"],\n",
    "    coords=[time],\n",
    "    name=\"discharge rate\",\n",
    ")"
   ]
  },
  {
   "cell_type": "code",
   "execution_count": null,
   "id": "352e6648-80ec-4c83-aea0-d5c4c2a63e67",
   "metadata": {
    "scrolled": true
   },
   "outputs": [],
   "source": [
    "timestep_duration = 0.5\n",
    "initial_stored_energy = 0.0\n",
    "max_stored_energy = battery_parameters[\"Max storage volume\"]\n",
    "stored_energy = initial_stored_energy + timestep_duration * (charge_rate * charge_efficiency - discharge_rate).shift(time=1).cumsum()"
   ]
  },
  {
   "cell_type": "code",
   "execution_count": null,
   "id": "97b28d13-f1be-4677-9333-7e500e888b18",
   "metadata": {
    "scrolled": true
   },
   "outputs": [],
   "source": [
    "m.add_constraints(is_charging + is_discharging <= 1, name=\"charging and discharging mutually exclusive\");"
   ]
  },
  {
   "cell_type": "code",
   "execution_count": null,
   "id": "f3d3ab28-a816-4275-acd7-362a4d61d59d",
   "metadata": {},
   "outputs": [],
   "source": [
    "m.add_constraints(charge_rate <= is_charging * battery_parameters[\"Max charging rate\"], name=\"cannot exceed max charge rate\");"
   ]
  },
  {
   "cell_type": "code",
   "execution_count": null,
   "id": "1dc66160-1e2c-4c44-99a6-f97395ea2963",
   "metadata": {},
   "outputs": [],
   "source": [
    "m.add_constraints(discharge_rate <= is_discharging * battery_parameters[\"Max discharging rate\"], name=\"cannot exceed max discharge rate\");"
   ]
  },
  {
   "cell_type": "code",
   "execution_count": null,
   "id": "b630e869-1f23-4aaf-8ac6-469b3e056493",
   "metadata": {},
   "outputs": [],
   "source": [
    "m.add_constraints(timestep_duration * discharge_rate <= stored_energy, name=\"cannot discharge more than stored energy\");"
   ]
  },
  {
   "cell_type": "code",
   "execution_count": null,
   "id": "7f01b6b9-c9cb-4316-a9ee-364bc2f70ed9",
   "metadata": {},
   "outputs": [],
   "source": [
    "m.add_constraints(timestep_duration * charge_rate <= max_stored_energy - stored_energy, name=\"cannot charge more than spare capacity\");"
   ]
  },
  {
   "cell_type": "markdown",
   "id": "f85c2a63-375d-45e3-b42e-28ba99f14cb3",
   "metadata": {
    "jp-MarkdownHeadingCollapsed": true
   },
   "source": [
    "We wish to optimise profit:\n",
    "$$\n",
    "\\max \\sum_t^n p_t (s^d_t r^d_t e^d - s^c_t r^c_t / e^c)\n",
    "$$"
   ]
  },
  {
   "cell_type": "code",
   "execution_count": null,
   "id": "b616d5a9-09ac-4852-a6b7-c26ab1967098",
   "metadata": {},
   "outputs": [],
   "source": [
    "m.add_objective(\n",
    "    price_30min * (discharge_rate / discharge_efficiency - charge_rate * charge_efficiency),\n",
    "    sense=\"max\",\n",
    ")"
   ]
  },
  {
   "cell_type": "markdown",
   "id": "4c191a9e-95e5-446c-856d-6592ac63fa12",
   "metadata": {
    "jp-MarkdownHeadingCollapsed": true
   },
   "source": [
    "subject to:\n",
    "$$\n",
    "\\begin{array}{ll}\n",
    "s^d_t + s^c_t \\leq & \\text{charging and discharging cannot occur simultaneously} \\\\\n",
    "\\delta r^d_t \\leq E_t & \\text{cannot discharge more than the stored energy in a given timestep} \\\\\n",
    "\\delta r^c_t \\leq E_{max} - E_t & \\text{cannot charge more than the remaining capacity in a given timestep} \\\\\n",
    "E_t = E_{init} + \\delta \\sum_{i=0}^{i=t-1} (r^c_i/e^c - r^d_i) & \\text{stored energy is the cumulative sum of all prior charging and discharging events} \\\\\n",
    "0 \\leq E_t \\leq E_t^{max} & \\text{(up to maximum storage capacity)}\n",
    "\\end{array}\n",
    "$$\n",
    "\n",
    "where:\n",
    "$$\n",
    "\\begin{array}{ll}\n",
    "    \\text{duration of timestep} & \\delta \\\\\n",
    "    \\text{stored energy at time $t$} & E_t \\\\\n",
    "    \\text{maximum storage volume} & E_{max} \\\\\n",
    "    \\text{initial stored energy} & E_{init} \\\\\n",
    "\\end{array}\n",
    "$$"
   ]
  },
  {
   "cell_type": "code",
   "execution_count": null,
   "id": "219f9dfd-27cf-4d29-acbe-cadd8f6e6fb5",
   "metadata": {},
   "outputs": [],
   "source": [
    "m.solve(solver_name=\"highs\")"
   ]
  },
  {
   "cell_type": "code",
   "execution_count": null,
   "id": "3be27ea7-e423-4f79-87f4-bb8cd621d2df",
   "metadata": {},
   "outputs": [],
   "source": [
    "m.solution"
   ]
  },
  {
   "cell_type": "markdown",
   "id": "44124507-d1e2-4894-8ec5-71907c7d2f0d",
   "metadata": {},
   "source": [
    "# Validation"
   ]
  },
  {
   "cell_type": "code",
   "execution_count": null,
   "id": "9c51aaff-c87e-4021-bca4-45da87f46db4",
   "metadata": {},
   "outputs": [],
   "source": [
    "assert ((charge_rate.solution * discharge_rate.solution).round(8) == 0).all()"
   ]
  },
  {
   "cell_type": "code",
   "execution_count": null,
   "id": "951070f0-ec70-41fe-964e-43af3f8a2a69",
   "metadata": {},
   "outputs": [],
   "source": [
    "oops = charge_rate.solution * discharge_rate.solution != 0"
   ]
  },
  {
   "cell_type": "code",
   "execution_count": null,
   "id": "bfa6e119-cb5e-40d5-b342-7a5675b8cec2",
   "metadata": {},
   "outputs": [],
   "source": [
    "df = pd.DataFrame({\n",
    "    \"price\": price_30min,\n",
    "    \"charge rate\": charge_rate.solution.values,\n",
    "    \"discharge rate\": discharge_rate.solution.values,\n",
    "    \"stored energy\": stored_energy.solution.values,\n",
    "    \"energy added\": charge_rate.solution.values * charge_efficiency * timestep_duration,\n",
    "    \"energy removed\": discharge_rate.solution.values * timestep_duration,\n",
    "    \"energy sold\": discharge_rate.solution.values * timestep_duration * discharge_efficiency,\n",
    "}, index=time)\n",
    "\n",
    "df.head(5)"
   ]
  },
  {
   "cell_type": "markdown",
   "id": "4b71d151-2fc0-4682-adf2-471877a52e91",
   "metadata": {},
   "source": [
    "# Visualisation"
   ]
  },
  {
   "cell_type": "code",
   "execution_count": null,
   "id": "cf9f9a93-19ba-40b8-8320-e92e00b4b495",
   "metadata": {},
   "outputs": [],
   "source": [
    "from matplotlib import pyplot as plt"
   ]
  },
  {
   "cell_type": "code",
   "execution_count": null,
   "id": "f91d429e-ab34-419d-b07e-5c11b771e905",
   "metadata": {},
   "outputs": [],
   "source": [
    "fig, (axis_price, axis_energy, axis_flow) = plt.subplots(3, figsize=(12, 6), sharex=True)\n",
    "axis_energy.set_ylim(0, 1.1*battery_parameters[\"Max storage volume\"])\n",
    "axis_flow.set_ylim(-1.25*battery_parameters[\"Max discharging rate\"], 1.25*battery_parameters[\"Max charging rate\"])\n",
    "axis_price.set_ylabel(\"£\")\n",
    "axis_energy.set_ylabel(\"E\")\n",
    "axis_flow.set_ylabel(\"r\")\n",
    "axis_price.plot(half_hourly_market_series, color=\"black\")\n",
    "axis_energy.fill_between(\n",
    "    time,\n",
    "    stored_energy.solution.values,\n",
    "    color=\"blue\",\n",
    ")\n",
    "axis_flow.fill_between(\n",
    "    time,\n",
    "    m.solution.variables[\"charge rate\"],\n",
    "    step=\"post\",\n",
    "    color=\"green\",\n",
    "    label=\"charging\",\n",
    ")\n",
    "axis_flow.fill_between(\n",
    "    time,\n",
    "    -m.solution.variables[\"discharge rate\"],\n",
    "    step=\"post\",\n",
    "    color=\"red\",\n",
    "    label=\"discharging\",\n",
    ")\n",
    "axis_flow.legend()"
   ]
  },
  {
   "cell_type": "code",
   "execution_count": null,
   "id": "d31264e8-2bd7-48eb-a1f7-9ce3aaab6dff",
   "metadata": {},
   "outputs": [],
   "source": []
  }
 ],
 "metadata": {
  "kernelspec": {
   "display_name": "Python 3 (ipykernel)",
   "language": "python",
   "name": "python3"
  },
  "language_info": {
   "codemirror_mode": {
    "name": "ipython",
    "version": 3
   },
   "file_extension": ".py",
   "mimetype": "text/x-python",
   "name": "python",
   "nbconvert_exporter": "python",
   "pygments_lexer": "ipython3",
   "version": "3.13.5"
  }
 },
 "nbformat": 4,
 "nbformat_minor": 5
}
